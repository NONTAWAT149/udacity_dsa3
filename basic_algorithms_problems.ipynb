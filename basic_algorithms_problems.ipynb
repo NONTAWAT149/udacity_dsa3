{
 "cells": [
  {
   "cell_type": "markdown",
   "metadata": {},
   "source": [
    "#### Problem 1: Square Root of an Integer"
   ]
  },
  {
   "cell_type": "markdown",
   "source": [
    "Finding the Square Root of an Integer\n",
    "Find the square root of the integer without using any Python library. You have to find the floor value of the square root.\n",
    "\n",
    "For example if the given number is 16, then the answer would be 4.\n",
    "\n",
    "If the given number is 27, the answer would be 5 because sqrt(5) = 5.196 whose floor value is 5.\n",
    "\n",
    "The expected time complexity is O(log(n))"
   ],
   "metadata": {
    "collapsed": false
   }
  },
  {
   "cell_type": "code",
   "execution_count": 1,
   "metadata": {},
   "outputs": [],
   "source": [
    "def square_value(value):\n",
    "    \"\"\"\n",
    "    To calculate square value by using binary search\n",
    "    :param value\n",
    "    :return: answer (square value)\n",
    "    \"\"\"\n",
    "\n",
    "    start = 0\n",
    "    end = value\n",
    "\n",
    "    while start <= end:\n",
    "        mid = int((start + end)/2)\n",
    "\n",
    "        if (mid*mid) == value:\n",
    "            answer = mid\n",
    "            break\n",
    "\n",
    "        if (mid*mid) < value:\n",
    "            start = mid + 1\n",
    "            answer = mid\n",
    "\n",
    "        else:\n",
    "            end = mid - 1\n",
    "\n",
    "    return answer"
   ]
  },
  {
   "cell_type": "code",
   "execution_count": 20,
   "metadata": {},
   "outputs": [
    {
     "name": "stdout",
     "output_type": "stream",
     "text": [
      "Pass\n",
      "Pass\n",
      "Pass\n",
      "Pass\n",
      "Pass\n"
     ]
    }
   ],
   "source": [
    "print (\"Pass\" if  (3 == square_value(9)) else \"Fail\")\n",
    "print (\"Pass\" if  (0 == square_value(0)) else \"Fail\")\n",
    "print (\"Pass\" if  (4 == square_value(16)) else \"Fail\")\n",
    "print (\"Pass\" if  (1 == square_value(1)) else \"Fail\")\n",
    "print (\"Pass\" if  (5 == square_value(27)) else \"Fail\")"
   ]
  },
  {
   "cell_type": "markdown",
   "source": [
    "#### Problem 2: Search in a rotated sorted array"
   ],
   "metadata": {
    "collapsed": false
   }
  },
  {
   "cell_type": "markdown",
   "source": [
    "Search in a Rotated Sorted Array\n",
    "You are given a sorted array which is rotated at some random pivot point.\n",
    "\n",
    "Example: [0,1,2,4,5,6,7] might become [4,5,6,7,0,1,2]\n",
    "\n",
    "You are given a target value to search. If found in the array return its index, otherwise return -1.\n",
    "\n",
    "You can assume there are no duplicates in the array and your algorithm's runtime complexity must be in the order of O(log n).\n",
    "\n",
    "Example:\n",
    "\n",
    "Input: nums = [4,5,6,7,0,1,2], target = 0, Output: 4"
   ],
   "metadata": {
    "collapsed": false
   }
  },
  {
   "cell_type": "code",
   "execution_count": 3,
   "metadata": {},
   "outputs": [],
   "source": [
    "def rotated_array_search(num_list, target):\n",
    "    \"\"\"\n",
    "    To find index of target value on list of numbers\n",
    "    :param num_list\n",
    "    :param target\n",
    "    :return: index of target value\n",
    "    \"\"\"\n",
    "\n",
    "    left_index = 0\n",
    "    right_index = len(num_list) - 1\n",
    "\n",
    "    while right_index >= left_index:\n",
    "\n",
    "        mid_index = (right_index + left_index)//2\n",
    "\n",
    "        # if target index is found, return the index\n",
    "        if target == num_list[mid_index]:\n",
    "            return mid_index\n",
    "\n",
    "        else:\n",
    "\n",
    "            # For left side is sorted\n",
    "            if num_list[left_index] <= num_list[mid_index]:\n",
    "                if (target > num_list[mid_index]) or (target < num_list[left_index]):\n",
    "                    left_index = mid_index + 1\n",
    "                else:\n",
    "                    right_index = mid_index - 1\n",
    "\n",
    "            # For right side is sorted\n",
    "            else:\n",
    "                if (target < num_list[mid_index]) or (target > num_list[right_index]):\n",
    "                    right_index = mid_index - 1\n",
    "                else:\n",
    "                    left_index = mid_index + 1\n",
    "\n",
    "    return -1"
   ]
  },
  {
   "cell_type": "code",
   "execution_count": 4,
   "metadata": {},
   "outputs": [
    {
     "name": "stdout",
     "output_type": "stream",
     "text": [
      "Pass\n",
      "Pass\n",
      "Pass\n",
      "Pass\n",
      "Pass\n"
     ]
    }
   ],
   "source": [
    "def linear_search(input_list, number):\n",
    "    for index, element in enumerate(input_list):\n",
    "        if element == number:\n",
    "            return index\n",
    "    return -1\n",
    "\n",
    "def test_function(test_case):\n",
    "    input_list = test_case[0]\n",
    "    number = test_case[1]\n",
    "    if linear_search(input_list, number) == rotated_array_search(input_list, number):\n",
    "        print(\"Pass\")\n",
    "    else:\n",
    "        print(\"Fail\")\n",
    "\n",
    "test_function([[6, 7, 8, 9, 10, 1, 2, 3, 4], 6])\n",
    "test_function([[6, 7, 8, 9, 10, 1, 2, 3, 4], 1])\n",
    "test_function([[6, 7, 8, 1, 2, 3, 4], 8])\n",
    "test_function([[6, 7, 8, 1, 2, 3, 4], 1])\n",
    "test_function([[6, 7, 8, 1, 2, 3, 4], 10])"
   ]
  },
  {
   "cell_type": "markdown",
   "source": [
    "#### Problem 3: Rearrange Array Digits"
   ],
   "metadata": {
    "collapsed": false
   }
  },
  {
   "cell_type": "markdown",
   "source": [
    "Rearrange Array Elements\n",
    "Rearrange Array Elements so as to form two number such that their sum is maximum. Return these two numbers. You can assume that all array elements are in the range [0, 9]. The number of digits in both the numbers cannot differ by more than 1. You're not allowed to use any sorting function that Python provides and the expected time complexity is O(nlog(n)).\n",
    "\n",
    "for e.g. [1, 2, 3, 4, 5]\n",
    "\n",
    "The expected answer would be [531, 42]. Another expected answer can be [542, 31]. In scenarios such as these when there are more than one possible answers, return any one."
   ],
   "metadata": {
    "collapsed": false
   }
  },
  {
   "cell_type": "code",
   "execution_count": 5,
   "outputs": [],
   "source": [
    "def sort_a_little_bit(items, begin_index, end_index):\n",
    "    \"\"\"\n",
    "    Support function to sort values in list by using pivot\n",
    "    :param items:\n",
    "    :param begin_index:\n",
    "    :param end_index:\n",
    "    :return: pivot_index, (partially) sorted items\n",
    "    \"\"\"\n",
    "\n",
    "    # Initialise index\n",
    "    left_index = begin_index\n",
    "    pivot_index = end_index\n",
    "    pivot_value = items[pivot_index]\n",
    "\n",
    "    # Go loop until pivot index is left index\n",
    "    while (pivot_index != left_index):\n",
    "\n",
    "        # set item value (from left index) to replace at pivot index\n",
    "        item = items[left_index]\n",
    "\n",
    "        # If pivot value is already bigger than item value, do nothing\n",
    "        # Then move the position of left index\n",
    "        # Continue next loop\n",
    "        if item <= pivot_value:\n",
    "            left_index += 1\n",
    "            continue\n",
    "\n",
    "        # Move value before pivot value to left index\n",
    "        items[left_index] = items[pivot_index - 1]\n",
    "\n",
    "        # Move pivot value to the position of in front of pivot index\n",
    "        items[pivot_index - 1] = pivot_value\n",
    "\n",
    "        # Move item value to pivot index\n",
    "        # This is the largest value\n",
    "        items[pivot_index] = item\n",
    "\n",
    "        # Move the position of pivot\n",
    "        pivot_index -= 1\n",
    "\n",
    "    return pivot_index, items"
   ],
   "metadata": {
    "collapsed": false
   }
  },
  {
   "cell_type": "code",
   "execution_count": 6,
   "outputs": [],
   "source": [
    "def sort_all(items, begin_index, end_index):\n",
    "    \"\"\"\n",
    "    Support function to loop sorting process\n",
    "    :param items:\n",
    "    :param begin_index:\n",
    "    :param end_index:\n",
    "    :return: sorted items\n",
    "    \"\"\"\n",
    "\n",
    "    # Stop the (sort) process if end_index <= begin_index\n",
    "    if end_index <= begin_index:\n",
    "        return\n",
    "\n",
    "    # Sort values using pivot\n",
    "    pivot_index, items = sort_a_little_bit(items, begin_index, end_index)\n",
    "    #print('debug pivot_index: {}, items : {}'.format(pivot_index, items))\n",
    "\n",
    "    # Sort values before pivot index (left side)\n",
    "    sort_all(items, begin_index, pivot_index - 1)\n",
    "\n",
    "    # Sort value after pivot index (right side)\n",
    "    sort_all(items, pivot_index + 1, end_index)\n",
    "\n",
    "    return items"
   ],
   "metadata": {
    "collapsed": false
   }
  },
  {
   "cell_type": "code",
   "execution_count": 7,
   "outputs": [],
   "source": [
    "def quicksort(items):\n",
    "    \"\"\"\n",
    "    Support function to call sorting function\n",
    "    :param items:\n",
    "    :return: sorted items\n",
    "    \"\"\"\n",
    "    return sort_all(items, 0, len(items) - 1)"
   ],
   "metadata": {
    "collapsed": false
   }
  },
  {
   "cell_type": "code",
   "execution_count": 8,
   "outputs": [
    {
     "name": "stdout",
     "output_type": "stream",
     "text": [
      "[0, 1, 2, 3, 7, 8, 10]\n"
     ]
    }
   ],
   "source": [
    "items = [8, 3, 1, 7, 0, 10, 2]\n",
    "items = quicksort(items)\n",
    "print(items)"
   ],
   "metadata": {
    "collapsed": false
   }
  },
  {
   "cell_type": "code",
   "execution_count": 9,
   "outputs": [],
   "source": [
    "def rearrange_digits(input_list):\n",
    "    \"\"\"\n",
    "    Rearrange Array Elements so as to form two number such that their sum is maximum.\n",
    "\n",
    "    Args:\n",
    "       input_list(list): Input List\n",
    "    Returns:\n",
    "       (int),(int): Two maximum sums\n",
    "    \"\"\"\n",
    "    if input_list == None:\n",
    "        return None\n",
    "\n",
    "    # Sort values\n",
    "    input_list = quicksort(input_list)\n",
    "\n",
    "    # Initialise values\n",
    "    sum_list = list()\n",
    "    first_sum_number = ''\n",
    "    second_sum_number = ''\n",
    "\n",
    "    while len(input_list) > 0:\n",
    "\n",
    "        # Select the biggest value for first number\n",
    "        first_value = input_list.pop(-1)\n",
    "        first_sum_number += str(first_value)\n",
    "\n",
    "        if len(input_list) == 0:\n",
    "            # Stop the process if no value in input list\n",
    "            break\n",
    "        else:\n",
    "            # Select the remaining biggest value for second number\n",
    "            second_value = input_list.pop(-1)\n",
    "            second_sum_number += str(second_value)\n",
    "\n",
    "    # Add first number and second number to list\n",
    "    sum_list.append(int(first_sum_number))\n",
    "    sum_list.append(int(second_sum_number))\n",
    "\n",
    "    return sum_list"
   ],
   "metadata": {
    "collapsed": false
   }
  },
  {
   "cell_type": "code",
   "execution_count": 10,
   "outputs": [
    {
     "name": "stdout",
     "output_type": "stream",
     "text": [
      "Pass\n"
     ]
    }
   ],
   "source": [
    "def test_function(test_case):\n",
    "    output = rearrange_digits(test_case[0])\n",
    "    solution = test_case[1]\n",
    "    if sum(output) == sum(solution):\n",
    "        print(\"Pass\")\n",
    "    else:\n",
    "        print(\"Fail\")\n",
    "\n",
    "test_function([[1, 2, 3, 4, 5], [542, 31]])\n",
    "test_case = [[4, 6, 2, 5, 9, 8], [964, 852]]"
   ],
   "metadata": {
    "collapsed": false
   }
  },
  {
   "cell_type": "markdown",
   "source": [
    "#### Problem 4: Dutch National Flag Problem"
   ],
   "metadata": {
    "collapsed": false
   }
  },
  {
   "cell_type": "markdown",
   "source": [
    "Dutch National Flag Problem\n",
    "Given an input array consisting on only 0, 1, and 2, sort the array in a single traversal. You're not allowed to use any sorting function that Python provides.\n",
    "\n",
    "Note: O(n) does not necessarily mean single-traversal. For e.g. if you traverse the array twice, that would still be an O(n) solution but it will not count as single traversal."
   ],
   "metadata": {
    "collapsed": false
   }
  },
  {
   "cell_type": "code",
   "execution_count": 11,
   "outputs": [],
   "source": [
    "def sort_012(input_list):\n",
    "    \"\"\"\n",
    "    Function to sort 0, 1, 2 values\n",
    "    value 0 moves to the left of list\n",
    "    value 2 moves to the right of list\n",
    "    value 1 stays at the middle of list\n",
    "\n",
    "    Input: input list of number 0, 1, 2\n",
    "    Return: Sorted values\n",
    "    \"\"\"\n",
    "\n",
    "    # initialise pointer of position of value 0 and 2\n",
    "    next_pos_0 = 0\n",
    "    next_pos_2 = len(input_list) - 1\n",
    "    traversal_index = 0\n",
    "\n",
    "    while traversal_index <= next_pos_2:\n",
    "\n",
    "        # If the pointer value is 0\n",
    "        if input_list[traversal_index] == 0:\n",
    "\n",
    "            # Switch value between traversal_index and next_pos_0\n",
    "            input_list[traversal_index] = input_list[next_pos_0]\n",
    "            input_list[next_pos_0] = 0\n",
    "\n",
    "            # Move the position of pointers\n",
    "            next_pos_0 += 1\n",
    "            traversal_index += 1\n",
    "\n",
    "        # If the pointer value is 2\n",
    "        elif input_list[traversal_index] == 2:\n",
    "\n",
    "            # Switch value between traversal_index and next_pos_2\n",
    "            input_list[traversal_index] = input_list[next_pos_2]\n",
    "            input_list[next_pos_2] = 2\n",
    "\n",
    "            # Move the position of pointer\n",
    "            next_pos_2 -= 1\n",
    "\n",
    "        # If the pointer value is 1\n",
    "        else:\n",
    "\n",
    "            # Move the position of pointer\n",
    "            traversal_index += 1\n",
    "\n",
    "    return input_list"
   ],
   "metadata": {
    "collapsed": false
   }
  },
  {
   "cell_type": "code",
   "execution_count": 12,
   "outputs": [],
   "source": [
    "def test_function(test_case):\n",
    "    sorted_array = sort_012(test_case)\n",
    "    print(sorted_array)\n",
    "    if sorted_array == sorted(test_case):\n",
    "        print(\"Pass\")\n",
    "    else:\n",
    "        print(\"Fail\")"
   ],
   "metadata": {
    "collapsed": false
   }
  },
  {
   "cell_type": "code",
   "execution_count": 13,
   "outputs": [
    {
     "name": "stdout",
     "output_type": "stream",
     "text": [
      "[0, 0, 0, 1, 1, 1, 2, 2, 2, 2, 2]\n",
      "Pass\n",
      "[0, 0, 0, 0, 0, 0, 0, 0, 0, 0, 0, 1, 1, 1, 1, 1, 1, 2, 2, 2, 2, 2, 2, 2, 2, 2]\n",
      "Pass\n",
      "[0, 0, 0, 0, 0, 0, 1, 1, 1, 1, 1, 1, 2, 2, 2, 2, 2, 2, 2]\n",
      "Pass\n"
     ]
    }
   ],
   "source": [
    "test_function([0, 0, 2, 2, 2, 1, 1, 1, 2, 0, 2])\n",
    "test_function([2, 1, 2, 0, 0, 2, 1, 0, 1, 0, 0, 2, 2, 2, 1, 2, 0, 0, 0, 2, 1, 0, 2, 0, 0, 1])\n",
    "test_function([0, 0, 0, 0, 0, 0, 1, 1, 1, 1, 1, 1, 2, 2, 2, 2, 2, 2, 2])"
   ],
   "metadata": {
    "collapsed": false
   }
  },
  {
   "cell_type": "markdown",
   "source": [
    "#### Problem 6: Unsorted Integer Array"
   ],
   "metadata": {
    "collapsed": false
   }
  },
  {
   "cell_type": "markdown",
   "source": [
    "Max and Min in a Unsorted Array\n",
    "In this problem, we will look for smallest and largest integer from a list of unsorted integers. The code should run in O(n) time. Do not use Python's inbuilt functions to find min and max.\n",
    "\n",
    "Bonus Challenge: Is it possible to find the max and min in a single traversal?"
   ],
   "metadata": {
    "collapsed": false
   }
  },
  {
   "cell_type": "code",
   "execution_count": 14,
   "outputs": [],
   "source": [
    "def get_min_max(ints):\n",
    "    \"\"\"\n",
    "    To find max and min value of values in list\n",
    "    :param ints:\n",
    "    :return: tuple(min, max)\n",
    "    \"\"\"\n",
    "\n",
    "    # Initialise values of min and max\n",
    "    min = ints[0]\n",
    "    max = ints[0]\n",
    "\n",
    "    # Loop for each value and check for max and min value\n",
    "    for value in ints:\n",
    "\n",
    "        # if new min is found, update the min\n",
    "        if value < min:\n",
    "            min = value\n",
    "\n",
    "        # if new max is found, update the max\n",
    "        if value > max:\n",
    "            max = value\n",
    "\n",
    "    return (min, max)"
   ],
   "metadata": {
    "collapsed": false
   }
  },
  {
   "cell_type": "code",
   "execution_count": 15,
   "outputs": [
    {
     "name": "stdout",
     "output_type": "stream",
     "text": [
      "Pass\n"
     ]
    }
   ],
   "source": [
    "import random\n",
    "\n",
    "l = [i for i in range(0, 10)]  # a list containing 0 - 9\n",
    "random.shuffle(l)\n",
    "\n",
    "print (\"Pass\" if ((0, 9) == get_min_max(l)) else \"Fail\")"
   ],
   "metadata": {
    "collapsed": false
   }
  },
  {
   "cell_type": "markdown",
   "source": [
    "#### Problem 7: Request Routing in a Web Server with a Trie"
   ],
   "metadata": {
    "collapsed": false
   }
  },
  {
   "cell_type": "markdown",
   "source": [
    "HTTPRouter using a Trie\n",
    "For this exercise we are going to implement an HTTPRouter like you would find in a typical web server using the Trie data structure we learned previously.\n",
    "\n",
    "There are many different implementations of HTTP Routers such as regular expressions or simple string matching, but the Trie is an excellent and very efficient data structure for this purpose.\n",
    "\n",
    "The purpose of an HTTP Router is to take a URL path like \"/\", \"/about\", or \"/blog/2019-01-15/my-awesome-blog-post\" and figure out what content to return. In a dynamic web server, the content will often come from a block of code called a handler."
   ],
   "metadata": {
    "collapsed": false
   }
  },
  {
   "cell_type": "code",
   "execution_count": 16,
   "outputs": [],
   "source": [
    "## A RouteTrieNode will be similar to our autocomplete TrieNode... with one additional element, a handler.\n",
    "class RouteTrieNode:\n",
    "    def __init__(self):\n",
    "        \"\"\"\n",
    "        Initialize the node with children as before,\n",
    "        plus a handler\n",
    "        \"\"\"\n",
    "\n",
    "        self.children = {}\n",
    "        self.handler = None\n",
    "\n",
    "    def insert(self, handler):\n",
    "        \"\"\"\n",
    "        # Insert the node as before\n",
    "        \"\"\"\n",
    "\n",
    "        # add node if it does not exist.\n",
    "        if handler not in self.children:\n",
    "            self.children[handler] = RouteTrieNode()\n"
   ],
   "metadata": {
    "collapsed": false
   }
  },
  {
   "cell_type": "code",
   "execution_count": 17,
   "outputs": [],
   "source": [
    "## A RouteTrie will store our routes and their associated handlers\n",
    "class RouteTrie:\n",
    "    def __init__(self):\n",
    "        \"\"\"\n",
    "        # Initialize the trie with an root node and a handler,\n",
    "        this is the root path or home page node\n",
    "        \"\"\"\n",
    "\n",
    "        self.root = RouteTrieNode()\n",
    "\n",
    "    def insert(self, handler, path):\n",
    "        \"\"\"\n",
    "        Similar to our previous example you will want to recursively add nodes\n",
    "        Make sure you assign the handler to only the leaf (deepest) node of this path\n",
    "        \"\"\"\n",
    "\n",
    "        # Initialise current node\n",
    "        current_node = self.root\n",
    "\n",
    "        # Add element from path to current node\n",
    "        for element in path:\n",
    "            current_node.insert(element)\n",
    "            current_node = current_node.children[element]\n",
    "\n",
    "        # Add handler at the end of child node\n",
    "        current_node.handler = handler\n",
    "\n",
    "    def find(self, path):\n",
    "        \"\"\"\n",
    "        Starting at the root, navigate the Trie to find a match for this path\n",
    "        Return the handler for a match, or None for no match\n",
    "        \"\"\"\n",
    "\n",
    "        # Initialise current node\n",
    "        current_node = self.root\n",
    "\n",
    "        # Loop to find path\n",
    "        for element in path:\n",
    "\n",
    "            # Return None if path not found\n",
    "            if element not in current_node.children:\n",
    "                return None\n",
    "            # Set new current node to move to next node\n",
    "            current_node = current_node.children[element]\n",
    "\n",
    "        # return handler (path if found)\n",
    "        return current_node.handler"
   ],
   "metadata": {
    "collapsed": false
   }
  },
  {
   "cell_type": "code",
   "execution_count": 18,
   "outputs": [],
   "source": [
    "## The Router class will wrap the Trie and handle\n",
    "class Router:\n",
    "\n",
    "    def __init__(self, handler, handler_not_found = \"handler_not_found\"):\n",
    "        \"\"\"\n",
    "        Create a new RouteTrie for holding our routes\n",
    "        You could also add a handler for 404 page not found responses as well!\n",
    "        \"\"\"\n",
    "\n",
    "        self.route = RouteTrie()\n",
    "        self.route.insert(handler, \"/\") # handler and path\n",
    "        self.not_found = handler_not_found\n",
    "\n",
    "    def add_handler(self, route, handler):\n",
    "        \"\"\"\n",
    "        Add a handler for a path\n",
    "        You will need to split the path and pass the pass parts\n",
    "        as a list to the RouteTrie\n",
    "        \"\"\"\n",
    "\n",
    "        self.route.insert(handler, self.split_path(route))\n",
    "\n",
    "    def lookup(self, route):\n",
    "        \"\"\"\n",
    "        lookup path (by parts) and return the associated handler\n",
    "        you can return None if it's not found or\n",
    "        return the \"not found\" handler if you added one\n",
    "        bonus points if a path works with and without a trailing slash\n",
    "        e.g. /about and /about/ both return the /about handler\n",
    "        \"\"\"\n",
    "\n",
    "        return self.route.find(self.split_path(route)) or self.not_found\n",
    "\n",
    "\n",
    "    def split_path(self, route):\n",
    "        \"\"\"\n",
    "        # you need to split the path into parts for\n",
    "        # both the add_handler and loopup functions,\n",
    "        # so it should be placed in a function here\n",
    "        \"\"\"\n",
    "\n",
    "        if len(route) == 1:\n",
    "            return [\"/\"]\n",
    "        else:\n",
    "            return route.strip(\"/\").split(\"/\")"
   ],
   "metadata": {
    "collapsed": false
   }
  },
  {
   "cell_type": "code",
   "execution_count": 19,
   "outputs": [
    {
     "name": "stdout",
     "output_type": "stream",
     "text": [
      "root handler\n",
      "not found handler\n",
      "about handler\n",
      "about handler\n",
      "not found handler\n"
     ]
    }
   ],
   "source": [
    "## Here are some test cases and expected outputs you can use to test your implementation\n",
    "\n",
    "## create the router and add a route\n",
    "router = Router(\"root handler\", \"not found handler\") # remove the 'not found handler' if you did not implement this\n",
    "router.add_handler(\"/home/about\", \"about handler\")  # add a route\n",
    "\n",
    "## some lookups with the expected output\n",
    "print(router.lookup(\"/\")) # should print 'root handler'\n",
    "print(router.lookup(\"/home\")) # should print 'not found handler' or None if you did not implement one\n",
    "print(router.lookup(\"/home/about\")) # should print 'about handler'\n",
    "print(router.lookup(\"/home/about/\")) # should print 'about handler' or None if you did not handle trailing slashes\n",
    "print(router.lookup(\"/home/about/me\")) # should print 'not found handler' or None if you did not implement one"
   ],
   "metadata": {
    "collapsed": false
   }
  },
  {
   "cell_type": "code",
   "execution_count": null,
   "outputs": [],
   "source": [],
   "metadata": {
    "collapsed": false
   }
  }
 ],
 "metadata": {
  "kernelspec": {
   "display_name": "Python 3",
   "language": "python",
   "name": "python3"
  },
  "language_info": {
   "codemirror_mode": {
    "name": "ipython",
    "version": 3
   },
   "file_extension": ".py",
   "mimetype": "text/x-python",
   "name": "python",
   "nbconvert_exporter": "python",
   "pygments_lexer": "ipython3",
   "version": "3.6.3"
  }
 },
 "nbformat": 4,
 "nbformat_minor": 2
}
