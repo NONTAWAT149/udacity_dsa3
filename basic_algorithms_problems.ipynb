{
 "cells": [
  {
   "cell_type": "markdown",
   "metadata": {},
   "source": [
    "### Problem 1: Square Root of an Integer"
   ]
  },
  {
   "cell_type": "code",
   "execution_count": 1,
   "metadata": {},
   "outputs": [],
   "source": [
    "def square_value(value):\n",
    "    \"\"\"\n",
    "    To calculate square value by using binary search\n",
    "    :param value\n",
    "    :return: answer (square value)\n",
    "    \"\"\"\n",
    "\n",
    "    start = 0\n",
    "    end = value\n",
    "\n",
    "    while start <= end:\n",
    "        mid = int((start + end)/2)\n",
    "\n",
    "        if (mid*mid) == value:\n",
    "            answer = mid\n",
    "            break\n",
    "\n",
    "        if (mid*mid) < value:\n",
    "            start = mid + 1\n",
    "            answer = mid\n",
    "\n",
    "        else:\n",
    "            end = mid - 1\n",
    "\n",
    "    return answer"
   ]
  },
  {
   "cell_type": "code",
   "execution_count": 2,
   "metadata": {},
   "outputs": [
    {
     "name": "stdout",
     "output_type": "stream",
     "text": [
      "Pass\n",
      "Pass\n",
      "Pass\n",
      "Pass\n",
      "Pass\n"
     ]
    }
   ],
   "source": [
    "print (\"Pass\" if  (3 == square_value(9)) else \"Fail\")\n",
    "print (\"Pass\" if  (0 == square_value(0)) else \"Fail\")\n",
    "print (\"Pass\" if  (4 == square_value(16)) else \"Fail\")\n",
    "print (\"Pass\" if  (1 == square_value(1)) else \"Fail\")\n",
    "print (\"Pass\" if  (5 == square_value(27)) else \"Fail\")"
   ]
  },
  {
   "cell_type": "markdown",
   "source": [
    "#### Problem 2: Search in a rotated sorted array"
   ],
   "metadata": {
    "collapsed": false
   }
  },
  {
   "cell_type": "code",
   "execution_count": 3,
   "metadata": {},
   "outputs": [],
   "source": [
    "def rotated_array_search(num_list, target):\n",
    "    \"\"\"\n",
    "    To find index of target value on list of numbers\n",
    "    :param num_list\n",
    "    :param target\n",
    "    :return: index of target value\n",
    "    \"\"\"\n",
    "\n",
    "    left_index = 0\n",
    "    right_index = len(num_list) - 1\n",
    "\n",
    "    while right_index >= left_index:\n",
    "\n",
    "        mid_index = (right_index + left_index)//2\n",
    "\n",
    "        # if target index is found, return the index\n",
    "        if target == num_list[mid_index]:\n",
    "            return mid_index\n",
    "\n",
    "        else:\n",
    "\n",
    "            # For left side is sorted\n",
    "            if num_list[left_index] <= num_list[mid_index]:\n",
    "                if (target > num_list[mid_index]) or (target < num_list[left_index]):\n",
    "                    left_index = mid_index + 1\n",
    "                else:\n",
    "                    right_index = mid_index - 1\n",
    "\n",
    "            # For right side is sorted\n",
    "            else:\n",
    "                if (target < num_list[mid_index]) or (target > num_list[right_index]):\n",
    "                    right_index = mid_index - 1\n",
    "                else:\n",
    "                    left_index = mid_index + 1\n",
    "\n",
    "    return -1"
   ]
  },
  {
   "cell_type": "code",
   "execution_count": 4,
   "metadata": {},
   "outputs": [
    {
     "name": "stdout",
     "output_type": "stream",
     "text": [
      "Pass\n",
      "Pass\n",
      "Pass\n",
      "Pass\n",
      "Pass\n"
     ]
    }
   ],
   "source": [
    "def linear_search(input_list, number):\n",
    "    for index, element in enumerate(input_list):\n",
    "        if element == number:\n",
    "            return index\n",
    "    return -1\n",
    "\n",
    "def test_function(test_case):\n",
    "    input_list = test_case[0]\n",
    "    number = test_case[1]\n",
    "    if linear_search(input_list, number) == rotated_array_search(input_list, number):\n",
    "        print(\"Pass\")\n",
    "    else:\n",
    "        print(\"Fail\")\n",
    "\n",
    "test_function([[6, 7, 8, 9, 10, 1, 2, 3, 4], 6])\n",
    "test_function([[6, 7, 8, 9, 10, 1, 2, 3, 4], 1])\n",
    "test_function([[6, 7, 8, 1, 2, 3, 4], 8])\n",
    "test_function([[6, 7, 8, 1, 2, 3, 4], 1])\n",
    "test_function([[6, 7, 8, 1, 2, 3, 4], 10])"
   ]
  },
  {
   "cell_type": "code",
   "execution_count": null,
   "outputs": [],
   "source": [],
   "metadata": {
    "collapsed": false,
    "pycharm": {
     "is_executing": true
    }
   }
  },
  {
   "cell_type": "code",
   "execution_count": 4,
   "outputs": [],
   "source": [],
   "metadata": {
    "collapsed": false
   }
  }
 ],
 "metadata": {
  "kernelspec": {
   "display_name": "Python 3",
   "language": "python",
   "name": "python3"
  },
  "language_info": {
   "codemirror_mode": {
    "name": "ipython",
    "version": 3
   },
   "file_extension": ".py",
   "mimetype": "text/x-python",
   "name": "python",
   "nbconvert_exporter": "python",
   "pygments_lexer": "ipython3",
   "version": "3.6.3"
  }
 },
 "nbformat": 4,
 "nbformat_minor": 2
}
