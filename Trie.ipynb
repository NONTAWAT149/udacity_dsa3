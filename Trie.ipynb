{
 "cells": [
  {
   "cell_type": "markdown",
   "source": [
    "#### Problem 5: Autocomplete with Tries"
   ],
   "metadata": {
    "collapsed": false
   }
  },
  {
   "cell_type": "markdown",
   "source": [
    "# Building a Trie in Python\n",
    "\n",
    "Before we start let us reiterate the key components of a Trie or Prefix Tree. A trie is a tree-like data structure that stores a dynamic set of strings. Tries are commonly used to facilitate operations like predictive text or autocomplete features on mobile phones or web search.\n",
    "\n",
    "Before we move into the autocomplete function we need to create a working trie for storing strings.  We will create two classes:\n",
    "* A `Trie` class that contains the root node (empty string)\n",
    "* A `TrieNode` class that exposes the general functionality of the Trie, like inserting a word or finding the node which represents a prefix.\n",
    "\n",
    "Give it a try by implementing the `TrieNode` and `Trie` classes below!"
   ],
   "metadata": {
    "collapsed": false
   }
  },
  {
   "cell_type": "markdown",
   "metadata": {},
   "source": [
    "# Finding Suffixes\n",
    "\n",
    "Now that we have a functioning Trie, we need to add the ability to list suffixes to implement our autocomplete feature.  To do that, we need to implement a new function on the `TrieNode` object that will return all complete word suffixes that exist below it in the trie.  For example, if our Trie contains the words `[\"fun\", \"function\", \"factory\"]` and we ask for suffixes from the `f` node, we would expect to receive `[\"un\", \"unction\", \"actory\"]` back from `node.suffixes()`.\n",
    "\n",
    "Using the code you wrote for the `TrieNode` above, try to add the suffixes function below. (Hint: recurse down the trie, collecting suffixes as you go.)"
   ]
  },
  {
   "cell_type": "code",
   "execution_count": 1,
   "outputs": [],
   "source": [
    "## Represents a single node in the Trie\n",
    "\n",
    "class TrieNode:\n",
    "    def __init__(self):\n",
    "        \"\"\"\n",
    "        Initialize this node in the Trie\n",
    "        \"\"\"\n",
    "\n",
    "        self.children = {}\n",
    "        self.isleaf = False\n",
    "\n",
    "    def insert(self, char):\n",
    "        \"\"\"\n",
    "        Add a child node in this Trie\n",
    "        \"\"\"\n",
    "\n",
    "        # add new char if it does not exists\n",
    "        if char not in self.children:\n",
    "            self.children[char] = TrieNode()\n",
    "\n",
    "    def suffixes(self, suffix = ''):\n",
    "        \"\"\"\n",
    "        Recursive function that collects the suffix for\n",
    "        all complete words below this point\n",
    "        \"\"\"\n",
    "\n",
    "        # Initialise output list\n",
    "        suffix_list = []\n",
    "\n",
    "        # Add suffix to output list if found\n",
    "        if self.isleaf and suffix != '':\n",
    "            suffix_list.append(suffix)\n",
    "\n",
    "        # Stop loop when end of child nodes\n",
    "        if len(self.children) == 0:\n",
    "            return suffix_list\n",
    "\n",
    "        # Recursion to add more suffix\n",
    "        for char in self.children:\n",
    "            suffix_list.extend(self.children[char].suffixes(suffix=suffix + char))\n",
    "\n",
    "        return suffix_list"
   ],
   "metadata": {
    "collapsed": false
   }
  },
  {
   "cell_type": "code",
   "execution_count": 2,
   "outputs": [],
   "source": [
    "## The Trie itself containing the root node and insert/find functions\n",
    "\n",
    "class Trie:\n",
    "    def __init__(self):\n",
    "        \"\"\"\n",
    "        Initialize this Trie (add a root node)\n",
    "        \"\"\"\n",
    "\n",
    "        self.root = TrieNode()\n",
    "\n",
    "    def insert(self, word):\n",
    "        \"\"\"\n",
    "        Add a word to the Trie\n",
    "        \"\"\"\n",
    "\n",
    "        # set root node of current node\n",
    "        current_node = self.root\n",
    "\n",
    "        # loop to add new child node\n",
    "        for char in word:\n",
    "\n",
    "            # add new child node if is it not exist\n",
    "            if char not in current_node.children:\n",
    "                current_node.children[char] = TrieNode()\n",
    "\n",
    "            # set current node\n",
    "            current_node = current_node.children[char]\n",
    "\n",
    "        # define end of child node\n",
    "        current_node.isleaf = True\n",
    "\n",
    "    def find(self, prefix):\n",
    "        \"\"\"\n",
    "        Find the Trie node that represents this prefix\n",
    "        \"\"\"\n",
    "\n",
    "        # define current node\n",
    "        current_node = self.root\n",
    "\n",
    "        # loop to get current node from prefix\n",
    "        for char in prefix:\n",
    "            if char not in current_node.children:\n",
    "                return False\n",
    "            current_node = current_node.children[char]\n",
    "\n",
    "        return current_node\n"
   ],
   "metadata": {
    "collapsed": false
   }
  },
  {
   "cell_type": "markdown",
   "metadata": {},
   "source": [
    "# Testing it all out\n",
    "\n",
    "Run the following code to add some words to your trie and then use the interactive search box to see what your code returns."
   ]
  },
  {
   "cell_type": "code",
   "execution_count": 3,
   "metadata": {
    "collapsed": true
   },
   "outputs": [],
   "source": [
    "MyTrie = Trie()\n",
    "wordList = [\n",
    "    \"ant\", \"anthology\", \"antagonist\", \"antonym\", \n",
    "    \"fun\", \"function\", \"factory\", \n",
    "    \"trie\", \"trigger\", \"trigonometry\", \"tripod\"\n",
    "]\n",
    "for word in wordList:\n",
    "    MyTrie.insert(word)"
   ]
  },
  {
   "cell_type": "code",
   "execution_count": 5,
   "metadata": {
    "collapsed": true
   },
   "outputs": [
    {
     "data": {
      "text/plain": "interactive(children=(Text(value='', description='prefix'), Output()), _dom_classes=('widget-interact',))",
      "application/vnd.jupyter.widget-view+json": {
       "version_major": 2,
       "version_minor": 0,
       "model_id": "ea1774abfdbd43989d1b11d24d539889"
      }
     },
     "metadata": {},
     "output_type": "display_data"
    }
   ],
   "source": [
    "from ipywidgets import widgets\n",
    "from IPython.display import display\n",
    "from ipywidgets import interact\n",
    "def f(prefix):\n",
    "    if prefix != '':\n",
    "        prefixNode = MyTrie.find(prefix)\n",
    "        if prefixNode:\n",
    "            print('\\n'.join(prefixNode.suffixes()))\n",
    "        else:\n",
    "            print(prefix + \" not found\")\n",
    "    else:\n",
    "        print('')\n",
    "interact(f,prefix='');"
   ]
  },
  {
   "cell_type": "code",
   "execution_count": null,
   "outputs": [],
   "source": [],
   "metadata": {
    "collapsed": false
   }
  }
 ],
 "metadata": {
  "kernelspec": {
   "display_name": "Python 3",
   "language": "python",
   "name": "python3"
  },
  "language_info": {
   "codemirror_mode": {
    "name": "ipython",
    "version": 3
   },
   "file_extension": ".py",
   "mimetype": "text/x-python",
   "name": "python",
   "nbconvert_exporter": "python",
   "pygments_lexer": "ipython3",
   "version": "3.6.3"
  },
  "widgets": {
   "state": {},
   "version": "1.1.2"
  }
 },
 "nbformat": 4,
 "nbformat_minor": 2
}
